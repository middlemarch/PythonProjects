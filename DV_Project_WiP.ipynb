{
 "cells": [
  {
   "cell_type": "markdown",
   "metadata": {},
   "source": [
    "\n",
    "<h1><center>Twenty Years of Women in Parliament</center></h1>\n",
    "<h6><center>16104650: Rachel Flynn</center></h6>\n"
   ]
  },
  {
   "cell_type": "markdown",
   "metadata": {},
   "source": [
    "![alt](https://fortunedotcom.files.wordpress.com/2017/02/swedish-women-government-trump.jpg?w=720)\n",
    "\n",
    "<center>*Swedish deputy prime minister, Isabella Lövin, and female colleagues, signing a climate bill, Feb 2017*<br></center>\n",
    "<center>[Source: http://fortune.com/2017/02/04/swedish-deputy-prime-minister-all-women-trump/]</center>"
   ]
  },
  {
   "cell_type": "markdown",
   "metadata": {},
   "source": [
    "The following visual analysis aims to track the progress of female equality in world parliaments. Goal 3 of the UN's Millenium Development Goals aims to 'Promote gender equality and empower women', of which a key indicator was the proportion of seats held by women in national parliament (MDG Monitor, 2016). The data was sourced from the Inter-Parliamentary Union and covers the years 1997- 2017.\n",
    "<br>\n",
    "## Part 1: Preparing the data\n",
    "The first part of this notebook will outline the preprocessing in Python to create the final dataset and then proceed with the visualisations, created in Tableau. The original data was stored in a series of 21 tables located on the IPU's [Statistical Archive of Women in National Parliament](http://www.ipu.org/wmn-e/classif-arc.htm). It was copied into CSV files, with a date column to allow for filtering once the full dataframe was merged. \n",
    "<br>\n",
    "<br>\n",
    "There were two main requirements; \n",
    "* turning 21 tables into 1 \n",
    "* consolidating the '% W' datatype to represent percentage of women in parliment, which changed about halfway through the series"
   ]
  },
  {
   "cell_type": "markdown",
   "metadata": {},
   "source": [
    "For convenience, a for loop was used to read in all 21 files and automatically process them into a single dataframe, 'WP_all_years'. The result produced a superficial column, 'Seats\\*', but this had no impact of the rest of the output."
   ]
  },
  {
   "cell_type": "code",
   "execution_count": 3,
   "metadata": {
    "collapsed": true
   },
   "outputs": [],
   "source": [
    "import os\n",
    "import glob\n",
    "\n",
    "import pandas as pd\n",
    "import numpy as np"
   ]
  },
  {
   "cell_type": "code",
   "execution_count": 12,
   "metadata": {
    "collapsed": true
   },
   "outputs": [],
   "source": [
    "path = r'C:\\Users\\rtfly\\Documents\\HDip\\DataViz\\CA2-WiP-Data\\WP-CSVs'                   \n",
    "all_files = glob.glob(os.path.join(path, \"*.csv\"))     \n",
    "df_from_each_file = (pd.read_csv(f, na_values='?', encoding='latin1') for f in all_files)\n",
    "WP_all_years   = pd.concat(df_from_each_file, ignore_index=True)"
   ]
  },
  {
   "cell_type": "code",
   "execution_count": 13,
   "metadata": {
    "collapsed": false
   },
   "outputs": [
    {
     "data": {
      "text/html": [
       "<div>\n",
       "<table border=\"1\" class=\"dataframe\">\n",
       "  <thead>\n",
       "    <tr style=\"text-align: right;\">\n",
       "      <th></th>\n",
       "      <th>% W</th>\n",
       "      <th>Country</th>\n",
       "      <th>Elections</th>\n",
       "      <th>Rank</th>\n",
       "      <th>Seats</th>\n",
       "      <th>Seats*</th>\n",
       "      <th>Women</th>\n",
       "      <th>Year</th>\n",
       "    </tr>\n",
       "  </thead>\n",
       "  <tbody>\n",
       "    <tr>\n",
       "      <th>0</th>\n",
       "      <td>42.7</td>\n",
       "      <td>Sweden</td>\n",
       "      <td>09 1998</td>\n",
       "      <td>1</td>\n",
       "      <td>349</td>\n",
       "      <td>NaN</td>\n",
       "      <td>149.0</td>\n",
       "      <td>1999</td>\n",
       "    </tr>\n",
       "    <tr>\n",
       "      <th>1</th>\n",
       "      <td>37.4</td>\n",
       "      <td>Denmark</td>\n",
       "      <td>03 1998</td>\n",
       "      <td>2</td>\n",
       "      <td>179</td>\n",
       "      <td>NaN</td>\n",
       "      <td>67.0</td>\n",
       "      <td>1999</td>\n",
       "    </tr>\n",
       "    <tr>\n",
       "      <th>2</th>\n",
       "      <td>36.4</td>\n",
       "      <td>Norway</td>\n",
       "      <td>09 1997</td>\n",
       "      <td>3</td>\n",
       "      <td>165</td>\n",
       "      <td>NaN</td>\n",
       "      <td>60.0</td>\n",
       "      <td>1999</td>\n",
       "    </tr>\n",
       "    <tr>\n",
       "      <th>3</th>\n",
       "      <td>36</td>\n",
       "      <td>Netherlands</td>\n",
       "      <td>05 1998</td>\n",
       "      <td>4</td>\n",
       "      <td>150</td>\n",
       "      <td>NaN</td>\n",
       "      <td>54.0</td>\n",
       "      <td>1999</td>\n",
       "    </tr>\n",
       "    <tr>\n",
       "      <th>4</th>\n",
       "      <td>33.5</td>\n",
       "      <td>Finland</td>\n",
       "      <td>03 1995</td>\n",
       "      <td>5</td>\n",
       "      <td>200</td>\n",
       "      <td>NaN</td>\n",
       "      <td>67.0</td>\n",
       "      <td>1999</td>\n",
       "    </tr>\n",
       "    <tr>\n",
       "      <th>5</th>\n",
       "      <td>30.9</td>\n",
       "      <td>Germany</td>\n",
       "      <td>09 1998</td>\n",
       "      <td>6</td>\n",
       "      <td>669</td>\n",
       "      <td>NaN</td>\n",
       "      <td>207.0</td>\n",
       "      <td>1999</td>\n",
       "    </tr>\n",
       "    <tr>\n",
       "      <th>6</th>\n",
       "      <td>29.5</td>\n",
       "      <td>South Africa</td>\n",
       "      <td>04 1994</td>\n",
       "      <td>7</td>\n",
       "      <td>400</td>\n",
       "      <td>NaN</td>\n",
       "      <td>118.0</td>\n",
       "      <td>1999</td>\n",
       "    </tr>\n",
       "    <tr>\n",
       "      <th>7</th>\n",
       "      <td>29.2</td>\n",
       "      <td>New Zealand</td>\n",
       "      <td>10 1996</td>\n",
       "      <td>8</td>\n",
       "      <td>120</td>\n",
       "      <td>NaN</td>\n",
       "      <td>35.0</td>\n",
       "      <td>1999</td>\n",
       "    </tr>\n",
       "    <tr>\n",
       "      <th>8</th>\n",
       "      <td>27.6</td>\n",
       "      <td>Argentina</td>\n",
       "      <td>10 1997</td>\n",
       "      <td>9</td>\n",
       "      <td>257</td>\n",
       "      <td>NaN</td>\n",
       "      <td>71.0</td>\n",
       "      <td>1999</td>\n",
       "    </tr>\n",
       "    <tr>\n",
       "      <th>9</th>\n",
       "      <td>27.6</td>\n",
       "      <td>Cuba</td>\n",
       "      <td>01 1998</td>\n",
       "      <td>\"</td>\n",
       "      <td>601</td>\n",
       "      <td>NaN</td>\n",
       "      <td>166.0</td>\n",
       "      <td>1999</td>\n",
       "    </tr>\n",
       "  </tbody>\n",
       "</table>\n",
       "</div>"
      ],
      "text/plain": [
       "    % W       Country Elections Rank Seats  Seats*  Women  Year\n",
       "0  42.7        Sweden   09 1998    1   349     NaN  149.0  1999\n",
       "1  37.4       Denmark   03 1998    2   179     NaN   67.0  1999\n",
       "2  36.4        Norway   09 1997    3   165     NaN   60.0  1999\n",
       "3    36   Netherlands   05 1998    4   150     NaN   54.0  1999\n",
       "4  33.5       Finland   03 1995    5   200     NaN   67.0  1999\n",
       "5  30.9       Germany   09 1998    6   669     NaN  207.0  1999\n",
       "6  29.5  South Africa   04 1994    7   400     NaN  118.0  1999\n",
       "7  29.2   New Zealand   10 1996    8   120     NaN   35.0  1999\n",
       "8  27.6     Argentina   10 1997    9   257     NaN   71.0  1999\n",
       "9  27.6          Cuba   01 1998    \"   601     NaN  166.0  1999"
      ]
     },
     "execution_count": 13,
     "metadata": {},
     "output_type": "execute_result"
    }
   ],
   "source": [
    "WP_all_years.head(10)"
   ]
  },
  {
   "cell_type": "code",
   "execution_count": 14,
   "metadata": {
    "collapsed": false
   },
   "outputs": [
    {
     "data": {
      "text/html": [
       "<div>\n",
       "<table border=\"1\" class=\"dataframe\">\n",
       "  <thead>\n",
       "    <tr style=\"text-align: right;\">\n",
       "      <th></th>\n",
       "      <th>% W</th>\n",
       "      <th>Country</th>\n",
       "      <th>Elections</th>\n",
       "      <th>Rank</th>\n",
       "      <th>Seats</th>\n",
       "      <th>Seats*</th>\n",
       "      <th>Women</th>\n",
       "      <th>Year</th>\n",
       "    </tr>\n",
       "  </thead>\n",
       "  <tbody>\n",
       "    <tr>\n",
       "      <th>3875</th>\n",
       "      <td>0</td>\n",
       "      <td>Tuvalu</td>\n",
       "      <td>03 1998</td>\n",
       "      <td>\"</td>\n",
       "      <td>15</td>\n",
       "      <td>NaN</td>\n",
       "      <td>0.0</td>\n",
       "      <td>2001</td>\n",
       "    </tr>\n",
       "    <tr>\n",
       "      <th>3876</th>\n",
       "      <td>0</td>\n",
       "      <td>United Arab Emirates</td>\n",
       "      <td>12 1997</td>\n",
       "      <td>\"</td>\n",
       "      <td>40</td>\n",
       "      <td>NaN</td>\n",
       "      <td>0.0</td>\n",
       "      <td>2001</td>\n",
       "    </tr>\n",
       "    <tr>\n",
       "      <th>3877</th>\n",
       "      <td>0</td>\n",
       "      <td>Vanuatu</td>\n",
       "      <td>03 1998</td>\n",
       "      <td>\"</td>\n",
       "      <td>52</td>\n",
       "      <td>NaN</td>\n",
       "      <td>0.0</td>\n",
       "      <td>2001</td>\n",
       "    </tr>\n",
       "    <tr>\n",
       "      <th>3878</th>\n",
       "      <td>NaN</td>\n",
       "      <td>Andorra</td>\n",
       "      <td>03 2001</td>\n",
       "      <td>NaN</td>\n",
       "      <td>28</td>\n",
       "      <td>NaN</td>\n",
       "      <td>NaN</td>\n",
       "      <td>2001</td>\n",
       "    </tr>\n",
       "    <tr>\n",
       "      <th>3879</th>\n",
       "      <td>NaN</td>\n",
       "      <td>Bosnia and Herzegovina</td>\n",
       "      <td>11 2000</td>\n",
       "      <td>NaN</td>\n",
       "      <td>42</td>\n",
       "      <td>NaN</td>\n",
       "      <td>NaN</td>\n",
       "      <td>2001</td>\n",
       "    </tr>\n",
       "    <tr>\n",
       "      <th>3880</th>\n",
       "      <td>NaN</td>\n",
       "      <td>Haiti</td>\n",
       "      <td>05 2000</td>\n",
       "      <td>NaN</td>\n",
       "      <td>82</td>\n",
       "      <td>NaN</td>\n",
       "      <td>NaN</td>\n",
       "      <td>2001</td>\n",
       "    </tr>\n",
       "    <tr>\n",
       "      <th>3881</th>\n",
       "      <td>NaN</td>\n",
       "      <td>Libyan Arab Jamahiriya</td>\n",
       "      <td>03 1997</td>\n",
       "      <td>NaN</td>\n",
       "      <td>760</td>\n",
       "      <td>NaN</td>\n",
       "      <td>NaN</td>\n",
       "      <td>2001</td>\n",
       "    </tr>\n",
       "    <tr>\n",
       "      <th>3882</th>\n",
       "      <td>NaN</td>\n",
       "      <td>Liechtenstein</td>\n",
       "      <td>02 2001</td>\n",
       "      <td>NaN</td>\n",
       "      <td>25</td>\n",
       "      <td>NaN</td>\n",
       "      <td>NaN</td>\n",
       "      <td>2001</td>\n",
       "    </tr>\n",
       "    <tr>\n",
       "      <th>3883</th>\n",
       "      <td>NaN</td>\n",
       "      <td>Samoa</td>\n",
       "      <td>03 2001</td>\n",
       "      <td>NaN</td>\n",
       "      <td>49</td>\n",
       "      <td>NaN</td>\n",
       "      <td>NaN</td>\n",
       "      <td>2001</td>\n",
       "    </tr>\n",
       "    <tr>\n",
       "      <th>3884</th>\n",
       "      <td>NaN</td>\n",
       "      <td>Thailand</td>\n",
       "      <td>01 2001</td>\n",
       "      <td>NaN</td>\n",
       "      <td>500</td>\n",
       "      <td>NaN</td>\n",
       "      <td>NaN</td>\n",
       "      <td>2001</td>\n",
       "    </tr>\n",
       "  </tbody>\n",
       "</table>\n",
       "</div>"
      ],
      "text/plain": [
       "      % W                 Country Elections Rank Seats  Seats*  Women  Year\n",
       "3875    0                  Tuvalu   03 1998    \"    15     NaN    0.0  2001\n",
       "3876    0    United Arab Emirates   12 1997    \"    40     NaN    0.0  2001\n",
       "3877    0                 Vanuatu   03 1998    \"    52     NaN    0.0  2001\n",
       "3878  NaN                 Andorra   03 2001  NaN    28     NaN    NaN  2001\n",
       "3879  NaN  Bosnia and Herzegovina   11 2000  NaN    42     NaN    NaN  2001\n",
       "3880  NaN                   Haiti   05 2000  NaN    82     NaN    NaN  2001\n",
       "3881  NaN  Libyan Arab Jamahiriya   03 1997  NaN   760     NaN    NaN  2001\n",
       "3882  NaN           Liechtenstein   02 2001  NaN    25     NaN    NaN  2001\n",
       "3883  NaN                   Samoa   03 2001  NaN    49     NaN    NaN  2001\n",
       "3884  NaN                Thailand   01 2001  NaN   500     NaN    NaN  2001"
      ]
     },
     "execution_count": 14,
     "metadata": {},
     "output_type": "execute_result"
    }
   ],
   "source": [
    "WP_all_years.tail(10)"
   ]
  },
  {
   "cell_type": "code",
   "execution_count": null,
   "metadata": {
    "collapsed": true
   },
   "outputs": [],
   "source": [
    "WP_all_years.to_csv('WP_all_years_perc.csv')"
   ]
  },
  {
   "cell_type": "markdown",
   "metadata": {},
   "source": [
    "On first print to csv, the data showed two separate formats for the '% W' variable; numeric (45.5) and percentage (45.50%). This was incompatible for Tableau and needed to be fixed prior to visualisation. The following code appended the values '0%' to the end of any cells where a percentage sign wasn't found. Following this, it was a straightforward process to convert the values to percentage in Tableau."
   ]
  },
  {
   "cell_type": "code",
   "execution_count": 7,
   "metadata": {
    "collapsed": true
   },
   "outputs": [],
   "source": [
    "WP_all_years.loc[~WP_all_years['% W'].str.contains('%', na=False), '% W'] = WP_all_years['% W'].astype(str) + '0%'"
   ]
  },
  {
   "cell_type": "markdown",
   "metadata": {},
   "source": [
    "One final step was taken on the resulting dataset in Excel, whereby a column for men in parliament was created to allow for comparison. At this stage, the data was ready to be visualised."
   ]
  },
  {
   "cell_type": "markdown",
   "metadata": {},
   "source": [
    "## Part 2: Yearly Progress\n",
    "The first visualisation shows the overall global progress of women's representation in parliament throughout the 21 years examined. The most striking feature is the sheer steadiness of the increase, resulting in women almost doubling their participation by 2017."
   ]
  },
  {
   "cell_type": "code",
   "execution_count": 9,
   "metadata": {
    "collapsed": false
   },
   "outputs": [
    {
     "data": {
      "text/html": [
       "<div class='tableauPlaceholder' id='viz1493587906463' style='position: relative'><noscript><a href='#'><img alt='Yearly_prop ' src='https:&#47;&#47;public.tableau.com&#47;static&#47;images&#47;CA&#47;CA2-Women_in_Parliament&#47;Yearly_prop&#47;1_rss.png' style='border: none' /></a></noscript><object class='tableauViz'  style='display:none;'><param name='host_url' value='https%3A%2F%2Fpublic.tableau.com%2F' /> <param name='site_root' value='' /><param name='name' value='CA2-Women_in_Parliament&#47;Yearly_prop' /><param name='tabs' value='no' /><param name='toolbar' value='yes' /><param name='static_image' value='https:&#47;&#47;public.tableau.com&#47;static&#47;images&#47;CA&#47;CA2-Women_in_Parliament&#47;Yearly_prop&#47;1.png' /> <param name='animate_transition' value='yes' /><param name='display_static_image' value='yes' /><param name='display_spinner' value='yes' /><param name='display_overlay' value='yes' /><param name='display_count' value='yes' /></object></div>                <script type='text/javascript'>                    var divElement = document.getElementById('viz1493587906463');                    var vizElement = divElement.getElementsByTagName('object')[0];                    vizElement.style.width='100%';vizElement.style.height=(divElement.offsetWidth*0.75)+'px';                    var scriptElement = document.createElement('script');                    scriptElement.src = 'https://public.tableau.com/javascripts/api/viz_v1.js';                    vizElement.parentNode.insertBefore(scriptElement, vizElement);                </script>"
      ],
      "text/plain": [
       "<IPython.core.display.HTML object>"
      ]
     },
     "metadata": {},
     "output_type": "display_data"
    }
   ],
   "source": [
    "%%HTML\n",
    "<div class='tableauPlaceholder' id='viz1493587906463' style='position: relative'><noscript><a href='#'><img alt='Yearly_prop ' src='https:&#47;&#47;public.tableau.com&#47;static&#47;images&#47;CA&#47;CA2-Women_in_Parliament&#47;Yearly_prop&#47;1_rss.png' style='border: none' /></a></noscript><object class='tableauViz'  style='display:none;'><param name='host_url' value='https%3A%2F%2Fpublic.tableau.com%2F' /> <param name='site_root' value='' /><param name='name' value='CA2-Women_in_Parliament&#47;Yearly_prop' /><param name='tabs' value='no' /><param name='toolbar' value='yes' /><param name='static_image' value='https:&#47;&#47;public.tableau.com&#47;static&#47;images&#47;CA&#47;CA2-Women_in_Parliament&#47;Yearly_prop&#47;1.png' /> <param name='animate_transition' value='yes' /><param name='display_static_image' value='yes' /><param name='display_spinner' value='yes' /><param name='display_overlay' value='yes' /><param name='display_count' value='yes' /></object></div>                <script type='text/javascript'>                    var divElement = document.getElementById('viz1493587906463');                    var vizElement = divElement.getElementsByTagName('object')[0];                    vizElement.style.width='100%';vizElement.style.height=(divElement.offsetWidth*0.75)+'px';                    var scriptElement = document.createElement('script');                    scriptElement.src = 'https://public.tableau.com/javascripts/api/viz_v1.js';                    vizElement.parentNode.insertBefore(scriptElement, vizElement);                </script>"
   ]
  },
  {
   "cell_type": "markdown",
   "metadata": {},
   "source": [
    "Of course, this is the average participation for all women across the globe and conceals the progress of individual nations toward the goal of equal participation. To better understand the increase, and to see in which countries it is most prominent, a world map with yearly filter can be investigated."
   ]
  },
  {
   "cell_type": "code",
   "execution_count": 10,
   "metadata": {
    "collapsed": false
   },
   "outputs": [
    {
     "data": {
      "text/html": [
       "<div class='tableauPlaceholder' id='viz1493588178941' style='position: relative'><noscript><a href='#'><img alt='WorldMap_WiP ' src='https:&#47;&#47;public.tableau.com&#47;static&#47;images&#47;CA&#47;CA2-Women_in_Parliament&#47;WorldMap_WiP&#47;1_rss.png' style='border: none' /></a></noscript><object class='tableauViz'  style='display:none;'><param name='host_url' value='https%3A%2F%2Fpublic.tableau.com%2F' /> <param name='site_root' value='' /><param name='name' value='CA2-Women_in_Parliament&#47;WorldMap_WiP' /><param name='tabs' value='no' /><param name='toolbar' value='yes' /><param name='static_image' value='https:&#47;&#47;public.tableau.com&#47;static&#47;images&#47;CA&#47;CA2-Women_in_Parliament&#47;WorldMap_WiP&#47;1.png' /> <param name='animate_transition' value='yes' /><param name='display_static_image' value='yes' /><param name='display_spinner' value='yes' /><param name='display_overlay' value='yes' /><param name='display_count' value='yes' /></object></div>                <script type='text/javascript'>                    var divElement = document.getElementById('viz1493588178941');                    var vizElement = divElement.getElementsByTagName('object')[0];                    vizElement.style.width='100%';vizElement.style.height=(divElement.offsetWidth*0.75)+'px';                    var scriptElement = document.createElement('script');                    scriptElement.src = 'https://public.tableau.com/javascripts/api/viz_v1.js';                    vizElement.parentNode.insertBefore(scriptElement, vizElement);                </script>"
      ],
      "text/plain": [
       "<IPython.core.display.HTML object>"
      ]
     },
     "metadata": {},
     "output_type": "display_data"
    }
   ],
   "source": [
    "%%HTML\n",
    "<div class='tableauPlaceholder' id='viz1493588178941' style='position: relative'><noscript><a href='#'><img alt='WorldMap_WiP ' src='https:&#47;&#47;public.tableau.com&#47;static&#47;images&#47;CA&#47;CA2-Women_in_Parliament&#47;WorldMap_WiP&#47;1_rss.png' style='border: none' /></a></noscript><object class='tableauViz'  style='display:none;'><param name='host_url' value='https%3A%2F%2Fpublic.tableau.com%2F' /> <param name='site_root' value='' /><param name='name' value='CA2-Women_in_Parliament&#47;WorldMap_WiP' /><param name='tabs' value='no' /><param name='toolbar' value='yes' /><param name='static_image' value='https:&#47;&#47;public.tableau.com&#47;static&#47;images&#47;CA&#47;CA2-Women_in_Parliament&#47;WorldMap_WiP&#47;1.png' /> <param name='animate_transition' value='yes' /><param name='display_static_image' value='yes' /><param name='display_spinner' value='yes' /><param name='display_overlay' value='yes' /><param name='display_count' value='yes' /></object></div>                <script type='text/javascript'>                    var divElement = document.getElementById('viz1493588178941');                    var vizElement = divElement.getElementsByTagName('object')[0];                    vizElement.style.width='100%';vizElement.style.height=(divElement.offsetWidth*0.75)+'px';                    var scriptElement = document.createElement('script');                    scriptElement.src = 'https://public.tableau.com/javascripts/api/viz_v1.js';                    vizElement.parentNode.insertBefore(scriptElement, vizElement);                </script>"
   ]
  },
  {
   "cell_type": "markdown",
   "metadata": {},
   "source": [
    "In stereotypical fashion, the Nordic countries stand out as one of the most signigicant blocks of female participation, all with over one third of parliament represented by women. As we scroll through the years from 1997, something interesting begins to happen. From 2003 onwards, the leaders of the pack no longer come from Europe, but from Africa. Shining like a tiny ruby in the centre of the African map, Rwanda emerges as the most gender equal parliament in the world. Following the 2008 elections, it becomes the first ever parliament to hold a female majority, with 56.30%. What lessons can the rest of the world learn from this ambitious nation?"
   ]
  },
  {
   "cell_type": "markdown",
   "metadata": {},
   "source": [
    "## Part 3: Case study, Rwanda"
   ]
  },
  {
   "cell_type": "markdown",
   "metadata": {},
   "source": [
    "![alt](http://rt2qxflpae-flywheel.netdna-ssl.com/wp-content/uploads/2013/10/Rwandas-new-parliament.jpg)\n",
    "\n",
    "<center>*The 51 female parliamentary representatives of Rwanda stand with President Paul Kagame following elections in September 2013 *<br></center>\n",
    "<center>[Source: http://atlantablackstar.com/2013/10/14/rwandas-parliament-has-the-highest-female-representation-of-any-nation-on-earth/]</center>"
   ]
  },
  {
   "cell_type": "markdown",
   "metadata": {},
   "source": [
    "Equality aside, Rwanda is probably best known for its most tragic chapter, the genocide of the Tutsi population by the Hutu government in 1994. Central to this atrocity was the gender-selective murder of Tutsi men and the rape of Tutsi women. Combined, it was intended that the Tutsi line would be broken. In the 100 days of the genocide, before Paul Kagame's Rwandan Patriotic Front took control of the country, around 800,000 people were killed with particular emphasis on males (Jones, 2002). \n",
    "<br>\n",
    "<br>\n",
    "Following subsequent flight of Hutu to Zaire (now Democratic Republic of Congo), fearing retribution, estimates from 1996 suggest that around 70% of the population was female and 50% of households were headed by women (Nowrojee, 1996). Similar to post World War II Europe, the job of rebuilding fell to the women who were left behind, many of whom had suffered unspeakable abuse during the genocide."
   ]
  },
  {
   "cell_type": "markdown",
   "metadata": {},
   "source": [
    "The next image shows the progressive increase of women in Rwandan parliament over the past two decades. Although the population is less female-dominated than in 1996, the post-war trend for female political empowerment has continued unabated. "
   ]
  },
  {
   "cell_type": "code",
   "execution_count": 15,
   "metadata": {
    "collapsed": false
   },
   "outputs": [
    {
     "data": {
      "text/html": [
       "<div class='tableauPlaceholder' id='viz1493592869394' style='position: relative'><noscript><a href='#'><img alt='Perc_Women_Rwanda ' src='https:&#47;&#47;public.tableau.com&#47;static&#47;images&#47;TD&#47;TD9YYDMYN&#47;1_rss.png' style='border: none' /></a></noscript><object class='tableauViz'  style='display:none;'><param name='host_url' value='https%3A%2F%2Fpublic.tableau.com%2F' /> <param name='path' value='shared&#47;TD9YYDMYN' /> <param name='toolbar' value='yes' /><param name='static_image' value='https:&#47;&#47;public.tableau.com&#47;static&#47;images&#47;TD&#47;TD9YYDMYN&#47;1.png' /> <param name='animate_transition' value='yes' /><param name='display_static_image' value='yes' /><param name='display_spinner' value='yes' /><param name='display_overlay' value='yes' /><param name='display_count' value='yes' /></object></div>                <script type='text/javascript'>                    var divElement = document.getElementById('viz1493592869394');                    var vizElement = divElement.getElementsByTagName('object')[0];                    vizElement.style.width='100%';vizElement.style.height=(divElement.offsetWidth*0.75)+'px';                    var scriptElement = document.createElement('script');                    scriptElement.src = 'https://public.tableau.com/javascripts/api/viz_v1.js';                    vizElement.parentNode.insertBefore(scriptElement, vizElement);                </script>"
      ],
      "text/plain": [
       "<IPython.core.display.HTML object>"
      ]
     },
     "metadata": {},
     "output_type": "display_data"
    }
   ],
   "source": [
    "%%HTML\n",
    "<div class='tableauPlaceholder' id='viz1493592869394' style='position: relative'><noscript><a href='#'><img alt='Perc_Women_Rwanda ' src='https:&#47;&#47;public.tableau.com&#47;static&#47;images&#47;TD&#47;TD9YYDMYN&#47;1_rss.png' style='border: none' /></a></noscript><object class='tableauViz'  style='display:none;'><param name='host_url' value='https%3A%2F%2Fpublic.tableau.com%2F' /> <param name='path' value='shared&#47;TD9YYDMYN' /> <param name='toolbar' value='yes' /><param name='static_image' value='https:&#47;&#47;public.tableau.com&#47;static&#47;images&#47;TD&#47;TD9YYDMYN&#47;1.png' /> <param name='animate_transition' value='yes' /><param name='display_static_image' value='yes' /><param name='display_spinner' value='yes' /><param name='display_overlay' value='yes' /><param name='display_count' value='yes' /></object></div>                <script type='text/javascript'>                    var divElement = document.getElementById('viz1493592869394');                    var vizElement = divElement.getElementsByTagName('object')[0];                    vizElement.style.width='100%';vizElement.style.height=(divElement.offsetWidth*0.75)+'px';                    var scriptElement = document.createElement('script');                    scriptElement.src = 'https://public.tableau.com/javascripts/api/viz_v1.js';                    vizElement.parentNode.insertBefore(scriptElement, vizElement);                </script>"
   ]
  },
  {
   "cell_type": "markdown",
   "metadata": {},
   "source": [
    "As part of this process, the [Rwandan constitution of 2003](http://www.rwandahope.com/constitution.pdf) decrees that 24 of the 104 parliamentary seats should be held by women, creating a base quota which has been far exceeded since then. This is not to paint too idealistic a picture; over 50% of Rwandan women will experience violence at the hands of their partners and gender-based violence is still a prominent issue in the country (NISR, 2016). "
   ]
  },
  {
   "cell_type": "markdown",
   "metadata": {},
   "source": [
    "## Part 4: The EU-28 member states"
   ]
  },
  {
   "cell_type": "markdown",
   "metadata": {},
   "source": [
    "Moving closer to home, the EU has its own directives on furthering the realisation of de facto equality for men and women. As part of the European Commission's [Strategic Engagement for Gender Equality, 2016- 2019](http://ec.europa.eu/justice/gender-equality/document/files/strategic_engagement_en.pdf), equality in the field of decision making is a key indicator for reaching this goal. This not only covers parliament, but all leadership roles. The next chart shows the overall increase of women in parliament over the two decades analysed and is filtered by country to show national trends."
   ]
  },
  {
   "cell_type": "code",
   "execution_count": 16,
   "metadata": {
    "collapsed": false
   },
   "outputs": [
    {
     "data": {
      "text/html": [
       "<div class='tableauPlaceholder' id='viz1493595215937' style='position: relative'><noscript><a href='#'><img alt='EU_Years ' src='https:&#47;&#47;public.tableau.com&#47;static&#47;images&#47;CA&#47;CA2-Women_in_Parliament&#47;EU_Years&#47;1_rss.png' style='border: none' /></a></noscript><object class='tableauViz'  style='display:none;'><param name='host_url' value='https%3A%2F%2Fpublic.tableau.com%2F' /> <param name='site_root' value='' /><param name='name' value='CA2-Women_in_Parliament&#47;EU_Years' /><param name='tabs' value='no' /><param name='toolbar' value='yes' /><param name='static_image' value='https:&#47;&#47;public.tableau.com&#47;static&#47;images&#47;CA&#47;CA2-Women_in_Parliament&#47;EU_Years&#47;1.png' /> <param name='animate_transition' value='yes' /><param name='display_static_image' value='yes' /><param name='display_spinner' value='yes' /><param name='display_overlay' value='yes' /><param name='display_count' value='yes' /></object></div>                <script type='text/javascript'>                    var divElement = document.getElementById('viz1493595215937');                    var vizElement = divElement.getElementsByTagName('object')[0];                    vizElement.style.width='100%';vizElement.style.height=(divElement.offsetWidth*0.75)+'px';                    var scriptElement = document.createElement('script');                    scriptElement.src = 'https://public.tableau.com/javascripts/api/viz_v1.js';                    vizElement.parentNode.insertBefore(scriptElement, vizElement);                </script>"
      ],
      "text/plain": [
       "<IPython.core.display.HTML object>"
      ]
     },
     "metadata": {},
     "output_type": "display_data"
    }
   ],
   "source": [
    "%%HTML\n",
    "<div class='tableauPlaceholder' id='viz1493595215937' style='position: relative'><noscript><a href='#'><img alt='EU_Years ' src='https:&#47;&#47;public.tableau.com&#47;static&#47;images&#47;CA&#47;CA2-Women_in_Parliament&#47;EU_Years&#47;1_rss.png' style='border: none' /></a></noscript><object class='tableauViz'  style='display:none;'><param name='host_url' value='https%3A%2F%2Fpublic.tableau.com%2F' /> <param name='site_root' value='' /><param name='name' value='CA2-Women_in_Parliament&#47;EU_Years' /><param name='tabs' value='no' /><param name='toolbar' value='yes' /><param name='static_image' value='https:&#47;&#47;public.tableau.com&#47;static&#47;images&#47;CA&#47;CA2-Women_in_Parliament&#47;EU_Years&#47;1.png' /> <param name='animate_transition' value='yes' /><param name='display_static_image' value='yes' /><param name='display_spinner' value='yes' /><param name='display_overlay' value='yes' /><param name='display_count' value='yes' /></object></div>                <script type='text/javascript'>                    var divElement = document.getElementById('viz1493595215937');                    var vizElement = divElement.getElementsByTagName('object')[0];                    vizElement.style.width='100%';vizElement.style.height=(divElement.offsetWidth*0.75)+'px';                    var scriptElement = document.createElement('script');                    scriptElement.src = 'https://public.tableau.com/javascripts/api/viz_v1.js';                    vizElement.parentNode.insertBefore(scriptElement, vizElement);                </script>"
   ]
  },
  {
   "cell_type": "markdown",
   "metadata": {},
   "source": [
    "As can be seen using the filter, each country follows its own distinct path. Some rise steadily and others fluctuate  from one election to the next. Many of the more northern countries start from quite a high base, whereas some of the more traditional countries, like France, start from single figures. Although France's female participation is still just one quarter, it represents a more than four-fold increase since 1997. One thing unites all member states, apart from one; all have experienced a net increase from 1997 to 2017. Hungary is the only country with a lower number, but it must be noted that the participation of women in Hungarian parliament is among the lowest in the EU. The following chart breaks the participation rate down by member state, filtered by year to clearly observe the most equal to the most unequal parliaments."
   ]
  },
  {
   "cell_type": "code",
   "execution_count": 19,
   "metadata": {
    "collapsed": false
   },
   "outputs": [
    {
     "data": {
      "text/html": [
       "<div class='tableauPlaceholder' id='viz1493600746241' style='position: relative'><noscript><a href='#'><img alt='EU_states ' src='https:&#47;&#47;public.tableau.com&#47;static&#47;images&#47;CA&#47;CA2-Women_in_Parliament&#47;EU_states&#47;1_rss.png' style='border: none' /></a></noscript><object class='tableauViz'  style='display:none;'><param name='host_url' value='https%3A%2F%2Fpublic.tableau.com%2F' /> <param name='site_root' value='' /><param name='name' value='CA2-Women_in_Parliament&#47;EU_states' /><param name='tabs' value='no' /><param name='toolbar' value='yes' /><param name='static_image' value='https:&#47;&#47;public.tableau.com&#47;static&#47;images&#47;CA&#47;CA2-Women_in_Parliament&#47;EU_states&#47;1.png' /> <param name='animate_transition' value='yes' /><param name='display_static_image' value='yes' /><param name='display_spinner' value='yes' /><param name='display_overlay' value='yes' /><param name='display_count' value='yes' /></object></div>                <script type='text/javascript'>                    var divElement = document.getElementById('viz1493600746241');                    var vizElement = divElement.getElementsByTagName('object')[0];                    vizElement.style.width='100%';vizElement.style.height=(divElement.offsetWidth*0.75)+'px';                    var scriptElement = document.createElement('script');                    scriptElement.src = 'https://public.tableau.com/javascripts/api/viz_v1.js';                    vizElement.parentNode.insertBefore(scriptElement, vizElement);                </script>"
      ],
      "text/plain": [
       "<IPython.core.display.HTML object>"
      ]
     },
     "metadata": {},
     "output_type": "display_data"
    }
   ],
   "source": [
    "%%HTML\n",
    "<div class='tableauPlaceholder' id='viz1493600746241' style='position: relative'><noscript><a href='#'><img alt='EU_states ' src='https:&#47;&#47;public.tableau.com&#47;static&#47;images&#47;CA&#47;CA2-Women_in_Parliament&#47;EU_states&#47;1_rss.png' style='border: none' /></a></noscript><object class='tableauViz'  style='display:none;'><param name='host_url' value='https%3A%2F%2Fpublic.tableau.com%2F' /> <param name='site_root' value='' /><param name='name' value='CA2-Women_in_Parliament&#47;EU_states' /><param name='tabs' value='no' /><param name='toolbar' value='yes' /><param name='static_image' value='https:&#47;&#47;public.tableau.com&#47;static&#47;images&#47;CA&#47;CA2-Women_in_Parliament&#47;EU_states&#47;1.png' /> <param name='animate_transition' value='yes' /><param name='display_static_image' value='yes' /><param name='display_spinner' value='yes' /><param name='display_overlay' value='yes' /><param name='display_count' value='yes' /></object></div>                <script type='text/javascript'>                    var divElement = document.getElementById('viz1493600746241');                    var vizElement = divElement.getElementsByTagName('object')[0];                    vizElement.style.width='100%';vizElement.style.height=(divElement.offsetWidth*0.75)+'px';                    var scriptElement = document.createElement('script');                    scriptElement.src = 'https://public.tableau.com/javascripts/api/viz_v1.js';                    vizElement.parentNode.insertBefore(scriptElement, vizElement);                </script>"
   ]
  },
  {
   "cell_type": "markdown",
   "metadata": {},
   "source": [
    "Sweden has maintained the top position throughout the 21 years but many other nations have come with reaching distance of its impressive record. Looking at 1997 compared to 2017, we can now observe a wider distribution of improvement, as opposed to a sudden drop-off below 20% into the teens. This visualisation also shows countries before and after joining the EU, as many were not members in 1997. It would appear that many were already on a positive trend before accession."
   ]
  },
  {
   "cell_type": "markdown",
   "metadata": {},
   "source": [
    "## Conclusion\n",
    "Having looked at the world, both broadly and on a slightly more granular level, we can cautiously conclude that female participation in politics is on an upward trajectory. However, we cannot ignore the subtle whitewash of countries that have experienced little or no progress by those that have. This is the danger of averages and generalisations. It is hoped that, with this series of interactive and static visualisations, viewers will be able to see the truth in the figures and be aware that, while great progress has been made, the struggle for equality continues."
   ]
  },
  {
   "cell_type": "markdown",
   "metadata": {},
   "source": [
    "### References"
   ]
  },
  {
   "cell_type": "markdown",
   "metadata": {},
   "source": [
    "* Jones, A. (2002) 'Gender and genocide in Rwanda', *Journal of Genocide Research*, 4(1), pp. 65- 94. Available at http://www.tandfonline.com/doi/abs/10.1080/14623520120113900?journalCode=cjgr20 (Accessed 23 April 2017) \n",
    "<br><br>\n",
    "* MDG Monitor (2006) 'MDG 3: Promote gender equality and empower women', *Millenium Development Goals*, Nov 15. Available at http://www.mdgmonitor.org/mdg-3-promote-gender-equality-and-empower-women/ (Accessed 22 April 2017)\n",
    "<br><br>\n",
    "* NISR (2016) *Rwanda Deomgraphic and Health Survey 2014-2015*, National Institute of Statistics of Rwanda. Available at http://evaw-global-database.unwomen.org/en/countries/africa/rwanda/demographic-and-health-survey/demographic-and-health-survey (Accessed 23 April 2017)\n",
    "<br><br>\n",
    "* Nowrojee, B. (1996) *Shattered Lives: Sexual Violence during the Rwandan Genocide and Its Aftermath*. United States: Human Rights Watch Available at https://www.hrw.org/reports/1996/Rwanda.htm (Accessed 23 April 2017)"
   ]
  },
  {
   "cell_type": "code",
   "execution_count": null,
   "metadata": {
    "collapsed": true
   },
   "outputs": [],
   "source": []
  }
 ],
 "metadata": {
  "anaconda-cloud": {},
  "kernelspec": {
   "display_name": "Python [conda root]",
   "language": "python",
   "name": "conda-root-py"
  },
  "language_info": {
   "codemirror_mode": {
    "name": "ipython",
    "version": 3
   },
   "file_extension": ".py",
   "mimetype": "text/x-python",
   "name": "python",
   "nbconvert_exporter": "python",
   "pygments_lexer": "ipython3",
   "version": "3.5.2"
  }
 },
 "nbformat": 4,
 "nbformat_minor": 1
}
